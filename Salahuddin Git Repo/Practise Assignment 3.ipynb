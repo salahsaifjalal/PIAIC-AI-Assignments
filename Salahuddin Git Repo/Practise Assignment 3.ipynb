{
 "cells": [
  {
   "cell_type": "markdown",
   "metadata": {},
   "source": [
    "# Q1:"
   ]
  },
  {
   "cell_type": "markdown",
   "metadata": {},
   "source": [
    "Think of at least three kinds of your favorite pizza. Store these pizza names in a list, and then use a for loop to print the name of each pizza."
   ]
  },
  {
   "cell_type": "code",
   "execution_count": 1,
   "metadata": {},
   "outputs": [
    {
     "name": "stdout",
     "output_type": "stream",
     "text": [
      "chicken tikka\n",
      "achari chicken\n",
      "spicy chicken\n"
     ]
    }
   ],
   "source": [
    "# pizzas= chicken tikka,  achari chicken,   spicy chicken\n",
    "pizza = [\"chicken tikka\",  \"achari chicken\",   \"spicy chicken\"]\n",
    "for name in pizza:\n",
    "    print(name)"
   ]
  },
  {
   "cell_type": "code",
   "execution_count": null,
   "metadata": {},
   "outputs": [],
   "source": []
  },
  {
   "cell_type": "code",
   "execution_count": null,
   "metadata": {},
   "outputs": [],
   "source": []
  },
  {
   "cell_type": "markdown",
   "metadata": {},
   "source": [
    "# Q2"
   ]
  },
  {
   "cell_type": "markdown",
   "metadata": {},
   "source": [
    "Start with your last question , Modify your for loop to print a sentence using the name of the pizza\n",
    "instead of printing just the name of the pizza. For each pizza you should\n",
    "have one line of output containing a simple statement like I like pepperoni\n",
    "pizza."
   ]
  },
  {
   "cell_type": "code",
   "execution_count": 2,
   "metadata": {},
   "outputs": [
    {
     "name": "stdout",
     "output_type": "stream",
     "text": [
      "I like  chicken tikka\n",
      "My Mother like  achari chicken\n",
      "My Father like  spicy chicken\n"
     ]
    }
   ],
   "source": [
    "# chicken tikka,  achari chicken,   spicy chicken\n",
    "pizza = [\"chicken tikka\",  \"achari chicken\",   \"spicy chicken\"]\n",
    "for name in pizza:\n",
    "    if name == \"chicken tikka\":\n",
    "        print(\"I like \",name)\n",
    "    elif name == \"achari chicken\":\n",
    "        print(\"My Mother like \",name)\n",
    "    else:\n",
    "        print(\"My Father like \",name)"
   ]
  },
  {
   "cell_type": "code",
   "execution_count": null,
   "metadata": {},
   "outputs": [],
   "source": []
  },
  {
   "cell_type": "code",
   "execution_count": null,
   "metadata": {},
   "outputs": [],
   "source": []
  },
  {
   "cell_type": "markdown",
   "metadata": {},
   "source": [
    "# Q3:"
   ]
  },
  {
   "cell_type": "markdown",
   "metadata": {},
   "source": [
    "Use a for loop to print the numbers from 1 to 20,\n",
    "inclusive."
   ]
  },
  {
   "cell_type": "code",
   "execution_count": 16,
   "metadata": {},
   "outputs": [
    {
     "name": "stdout",
     "output_type": "stream",
     "text": [
      "1\n",
      "2\n",
      "3\n",
      "4\n",
      "5\n",
      "6\n",
      "7\n",
      "8\n",
      "9\n",
      "10\n",
      "11\n",
      "12\n",
      "13\n",
      "14\n",
      "15\n",
      "16\n",
      "17\n",
      "18\n",
      "19\n",
      "20\n"
     ]
    }
   ],
   "source": [
    "for numbers in range(1,21):\n",
    "    print(numbers)"
   ]
  },
  {
   "cell_type": "code",
   "execution_count": null,
   "metadata": {},
   "outputs": [],
   "source": []
  },
  {
   "cell_type": "markdown",
   "metadata": {},
   "source": [
    "# Q4:"
   ]
  },
  {
   "cell_type": "markdown",
   "metadata": {},
   "source": [
    "Use the third argument of the range() function to make a list\n",
    "of the odd numbers from 1 to 20. Use a for loop to print each number."
   ]
  },
  {
   "cell_type": "code",
   "execution_count": 17,
   "metadata": {},
   "outputs": [
    {
     "name": "stdout",
     "output_type": "stream",
     "text": [
      "1\n",
      "3\n",
      "5\n",
      "7\n",
      "9\n",
      "11\n",
      "13\n",
      "15\n",
      "17\n",
      "19\n"
     ]
    }
   ],
   "source": [
    "for numbers in range(1,21,2):\n",
    "    print(numbers)"
   ]
  },
  {
   "cell_type": "code",
   "execution_count": null,
   "metadata": {},
   "outputs": [],
   "source": []
  },
  {
   "cell_type": "code",
   "execution_count": null,
   "metadata": {},
   "outputs": [],
   "source": []
  },
  {
   "cell_type": "markdown",
   "metadata": {},
   "source": [
    "# Q5:"
   ]
  },
  {
   "cell_type": "markdown",
   "metadata": {},
   "source": [
    "Make a list of the multiples of 3 from 3 to 30. Use a for loop to\n",
    "print the numbers in your list."
   ]
  },
  {
   "cell_type": "code",
   "execution_count": 34,
   "metadata": {},
   "outputs": [
    {
     "name": "stdout",
     "output_type": "stream",
     "text": [
      "3\n",
      "6\n",
      "9\n",
      "12\n",
      "15\n",
      "18\n",
      "21\n",
      "24\n",
      "27\n",
      "30\n"
     ]
    }
   ],
   "source": [
    "x = list(range(3,33,3))\n",
    "for y in x:\n",
    "    print(y)\n"
   ]
  },
  {
   "cell_type": "code",
   "execution_count": null,
   "metadata": {},
   "outputs": [],
   "source": []
  },
  {
   "cell_type": "code",
   "execution_count": null,
   "metadata": {},
   "outputs": [],
   "source": []
  },
  {
   "cell_type": "code",
   "execution_count": null,
   "metadata": {},
   "outputs": [],
   "source": []
  },
  {
   "cell_type": "markdown",
   "metadata": {},
   "source": [
    "# Q6:"
   ]
  },
  {
   "cell_type": "markdown",
   "metadata": {},
   "source": [
    "A number raised to the third power is called a cube. For example,\n",
    "the cube of 2 is written as 2**3 in Python. Make a list of the first 10 cubes (that\n",
    "is, the cube of each integer from 1 through 10), and use a for loop to print out\n",
    "the value of each cube"
   ]
  },
  {
   "cell_type": "code",
   "execution_count": 1,
   "metadata": {},
   "outputs": [
    {
     "name": "stdout",
     "output_type": "stream",
     "text": [
      "cube of  1  is:  1\n",
      "cube of  2  is:  8\n",
      "cube of  3  is:  27\n",
      "cube of  4  is:  64\n",
      "cube of  5  is:  125\n",
      "cube of  6  is:  216\n",
      "cube of  7  is:  343\n",
      "cube of  8  is:  512\n",
      "cube of  9  is:  729\n",
      "cube of  10  is:  1000\n"
     ]
    }
   ],
   "source": [
    "for numbers in range(1,11):\n",
    "    print(\"cube of \",numbers,\" is: \",numbers**3)"
   ]
  },
  {
   "cell_type": "code",
   "execution_count": null,
   "metadata": {},
   "outputs": [],
   "source": []
  },
  {
   "cell_type": "code",
   "execution_count": null,
   "metadata": {},
   "outputs": [],
   "source": []
  },
  {
   "cell_type": "code",
   "execution_count": null,
   "metadata": {},
   "outputs": [],
   "source": []
  },
  {
   "cell_type": "markdown",
   "metadata": {},
   "source": [
    "# Q7:"
   ]
  },
  {
   "cell_type": "markdown",
   "metadata": {},
   "source": [
    "###### Make a python program that conatains your nine favourite dishes in a list called foods.\n",
    "\n",
    "###### Print the message, The first three items in the list are:. \n",
    "###### Then use a slice to print the first three items from that program’s list.\n",
    "\n",
    "###### Print the message, Three items from the middle of the list are:\n",
    "###### Use a slice to print three items from the middle of the list.\n",
    "\n",
    "###### Print the message, The last three items in the list are:\n",
    "###### Use a slice to print the last three items in the list."
   ]
  },
  {
   "cell_type": "code",
   "execution_count": 10,
   "metadata": {},
   "outputs": [
    {
     "name": "stdout",
     "output_type": "stream",
     "text": [
      "The first three items in the list are:  ['Biryani', 'Sajji', 'Chichen Karhai']\n",
      "Three items from the middle of the list are:  ['Paya', 'Haleem', 'Nihari']\n",
      "The last three items in the list are:  ['Dum Pukht', 'Chargha', 'Chapli Kabab']\n"
     ]
    }
   ],
   "source": [
    "foods = [\"Biryani\",\"Sajji\",\"Chichen Karhai\",\"Paya\",\"Haleem\",\"Nihari\",\"Dum Pukht\",\"Chargha\",\"Chapli Kabab\"]\n",
    "x = slice(0, 3)\n",
    "print(\"The first three items in the list are: \",foods[x])\n",
    "y = slice(3,6)\n",
    "print(\"Three items from the middle of the list are: \",foods[y])\n",
    "z = slice(6,9)\n",
    "print(\"The last three items in the list are: \",foods[z])\n"
   ]
  },
  {
   "cell_type": "code",
   "execution_count": null,
   "metadata": {},
   "outputs": [],
   "source": []
  },
  {
   "cell_type": "code",
   "execution_count": null,
   "metadata": {},
   "outputs": [],
   "source": []
  },
  {
   "cell_type": "code",
   "execution_count": null,
   "metadata": {},
   "outputs": [],
   "source": []
  },
  {
   "cell_type": "code",
   "execution_count": null,
   "metadata": {},
   "outputs": [],
   "source": []
  },
  {
   "cell_type": "code",
   "execution_count": null,
   "metadata": {},
   "outputs": [],
   "source": []
  },
  {
   "cell_type": "code",
   "execution_count": null,
   "metadata": {},
   "outputs": [],
   "source": []
  },
  {
   "cell_type": "markdown",
   "metadata": {},
   "source": [
    "# Q8:"
   ]
  },
  {
   "cell_type": "markdown",
   "metadata": {},
   "source": [
    "### Start with your program from your last Question8.\n",
    "###### Make a copy of the list of foods, and call it friend_foods.\n",
    "###### Then, do the following:\n",
    "######    Add a new dish to the original list.\n",
    "######    Add a different dish to the list friend_foodss.\n",
    "######    Prove that you have two separate lists. \n",
    "###### Print the message, My favorite pizzas are: and then use a for loop to print the first list. \n",
    "###### Print the message,\n",
    "###### My friend’s favorite foods are:, and then use a for loop to print the second list.\n",
    "    \n",
    "##### NOTE: Make sure each new dish is stored in the appropriate list."
   ]
  },
  {
   "cell_type": "code",
   "execution_count": 32,
   "metadata": {},
   "outputs": [
    {
     "name": "stdout",
     "output_type": "stream",
     "text": [
      "My favourite dishes are:  ['Handi', 'Seekh Kebab', 'Katakat', 'Kofta', 'Chicken Malai Boti', 'Boti Kabab', 'Shawarma', 'Chicken Tikka', 'Gola Kabab']\n",
      "\n",
      "Handi\n",
      "Seekh Kebab\n",
      "Katakat\n",
      "Kofta\n",
      "Chicken Malai Boti\n",
      "Boti Kabab\n",
      "Shawarma\n",
      "Chicken Tikka\n",
      "Gola Kabab\n",
      "\n",
      "My friend's favourite dishes are:  ['Biryani', 'Sajji', 'Chichen Karhai', 'Paya', 'Haleem', 'Nihari', 'Dum Pukht', 'Chargha', 'Chapli Kabab']\n",
      "\n",
      "Biryani\n",
      "Sajji\n",
      "Chichen Karhai\n",
      "Paya\n",
      "Haleem\n",
      "Nihari\n",
      "Dum Pukht\n",
      "Chargha\n",
      "Chapli Kabab\n"
     ]
    }
   ],
   "source": [
    "foods = [\"Biryani\",\"Sajji\",\"Chichen Karhai\",\"Paya\",\"Haleem\",\"Nihari\",\"Dum Pukht\",\"Chargha\",\"Chapli Kabab\"]\n",
    "friend_foods = foods.copy()\n",
    "foods.clear()\n",
    "foods = [\"Handi\",\"Seekh Kebab\",\"Katakat\",\"Kofta\",\"Chicken Malai Boti\",\"Boti Kabab\",\"Shawarma\",\"Chicken Tikka\",\"Gola Kabab\"]\n",
    "print(\"My favourite dishes are: \",foods)\n",
    "print(\"\")\n",
    "for x in foods:\n",
    "    print(x)\n",
    "print(\"\")\n",
    "print(\"My friend's favourite dishes are: \",friend_foods)\n",
    "print(\"\")\n",
    "for y in friend_foods:\n",
    "    print(y)\n"
   ]
  },
  {
   "cell_type": "code",
   "execution_count": null,
   "metadata": {},
   "outputs": [],
   "source": []
  },
  {
   "cell_type": "code",
   "execution_count": null,
   "metadata": {},
   "outputs": [],
   "source": []
  },
  {
   "cell_type": "code",
   "execution_count": null,
   "metadata": {},
   "outputs": [],
   "source": []
  },
  {
   "cell_type": "code",
   "execution_count": null,
   "metadata": {},
   "outputs": [],
   "source": [
    " "
   ]
  },
  {
   "cell_type": "code",
   "execution_count": null,
   "metadata": {},
   "outputs": [],
   "source": []
  },
  {
   "cell_type": "markdown",
   "metadata": {},
   "source": [
    "# Q9:"
   ]
  },
  {
   "cell_type": "markdown",
   "metadata": {},
   "source": [
    "Take a user input from console line.Store it in a variable called Alien_color.\n",
    "\n",
    "If the alien’s color is red, print a statement that the player just earned 5 points for shooting the alien.\n",
    "\n",
    "If the alien’s color isn’t green, print a statement that the player just earned 10 points.\n",
    "\n",
    "If the alien's color isn't red or green , print a statment :, Alien is no more....."
   ]
  },
  {
   "cell_type": "code",
   "execution_count": 56,
   "metadata": {},
   "outputs": [
    {
     "name": "stdout",
     "output_type": "stream",
     "text": [
      "Enter Color Name: BLUE\n",
      "Alien in no more.\n"
     ]
    }
   ],
   "source": [
    "Alien_color = input(\"Enter Color Name: \")\n",
    "Alien_color = Alien_color.lower()\n",
    "if Alien_color == \"red\":\n",
    "    print(\"The player just earned 5 points for shooting the alien.\")\n",
    "elif Alien_color == \"green\":\n",
    "    print(\"The player just earned 10 points.\")\n",
    "elif Alien_color != \"red\" and Alien_color != \"green\":\n",
    "        print(\"Alien in no more.\")\n",
    "    \n"
   ]
  },
  {
   "cell_type": "code",
   "execution_count": null,
   "metadata": {},
   "outputs": [],
   "source": []
  },
  {
   "cell_type": "code",
   "execution_count": null,
   "metadata": {},
   "outputs": [],
   "source": []
  },
  {
   "cell_type": "code",
   "execution_count": null,
   "metadata": {},
   "outputs": [],
   "source": []
  },
  {
   "cell_type": "markdown",
   "metadata": {},
   "source": [
    "# Q10:"
   ]
  },
  {
   "cell_type": "markdown",
   "metadata": {},
   "source": [
    "Write an if-elif-else chain that determines a person’s\n",
    "stage of life. Set a value for the variable age, and then:\n",
    "    \n",
    "•\t If the person is less than 2 years old, print a message that the person is a baby.\n",
    "\n",
    "•\t If the person is at least 2 years old but less than 4, print a message that the person is a toddler.\n",
    "\n",
    "•\t If the person is at least 4 years old but less than 13, print a message that the person is a kid.\n",
    "\n",
    "•\t If the person is at least 13 years old but less than 20, print a message that the person is a teenager.\n",
    "\n",
    "•\t If the person is at least 20 years old but less than 65, print a message that the person is an adult.\n",
    "\n",
    "•\t If the person is age 65 or older, print a message that the person is an elder."
   ]
  },
  {
   "cell_type": "code",
   "execution_count": 2,
   "metadata": {},
   "outputs": [
    {
     "name": "stdout",
     "output_type": "stream",
     "text": [
      "Enter your age: 500\n",
      "you are a elder.\n"
     ]
    }
   ],
   "source": [
    "age = int(input(\"Enter your age: \"))\n",
    "if age<2:\n",
    "    print(\"You are a baby.\")\n",
    "elif age == 2 or age<4:\n",
    "    print(\"You are a toddler.\")\n",
    "elif age == 4 or age<13:\n",
    "    print(\"You are a kid.\")\n",
    "elif age == 13 or age<20:\n",
    "    print(\"You are a teenager.\")\n",
    "elif age == 20 or age<65:\n",
    "    print(\"You are a adult.\")\n",
    "else:\n",
    "    print(\"you are a elder.\") "
   ]
  },
  {
   "cell_type": "code",
   "execution_count": null,
   "metadata": {},
   "outputs": [],
   "source": []
  },
  {
   "cell_type": "code",
   "execution_count": null,
   "metadata": {},
   "outputs": [],
   "source": []
  },
  {
   "cell_type": "code",
   "execution_count": null,
   "metadata": {},
   "outputs": [],
   "source": []
  },
  {
   "cell_type": "markdown",
   "metadata": {},
   "source": [
    "# Q11:"
   ]
  },
  {
   "cell_type": "markdown",
   "metadata": {},
   "source": [
    "Do the following to create a program that simulates how websites ensure that everyone has a unique username.\n",
    "\n",
    "•\t Make a list of five or more usernames called current_users.\n",
    "\n",
    "•\t Make another list of five usernames called new_users. \n",
    "Make sure one or two of the new usernames are also in the current_users list.\n",
    "\n",
    "•\t Loop through the new_users list to see if each new username has already been used. \n",
    "If it has, print a message that the person will need to enter a new username. \n",
    "If a username has not been used, print a message saying that the username is available.\n",
    "\n",
    "•\t Make sure your comparison is case insensitive. If 'John' has been used, 'JOHN' should not be accepted."
   ]
  },
  {
   "cell_type": "code",
   "execution_count": 11,
   "metadata": {},
   "outputs": [
    {
     "name": "stdout",
     "output_type": "stream",
     "text": [
      "username is available\n",
      "username is available\n",
      "the person will need to enter a new username.\n",
      "the person will need to enter a new username.\n",
      "username is available\n"
     ]
    }
   ],
   "source": [
    "current_users = [\"Aslam\",\"Anwer\",\"Jamal\",\"Kashif\",\"Jawed\"]\n",
    "new_users = [\"Tariq\",\"Asad\",\"kashif\",\"jawed\",\"Osama\"] \n",
    "for x in new_users:\n",
    "    if x.title() in current_users:\n",
    "        print(\"the person will need to enter a new username.\")\n",
    "    else:\n",
    "        print(\"username is available\")\n",
    "        \n",
    "    "
   ]
  },
  {
   "cell_type": "code",
   "execution_count": null,
   "metadata": {},
   "outputs": [],
   "source": []
  },
  {
   "cell_type": "code",
   "execution_count": null,
   "metadata": {},
   "outputs": [],
   "source": []
  },
  {
   "cell_type": "code",
   "execution_count": null,
   "metadata": {},
   "outputs": [],
   "source": []
  },
  {
   "cell_type": "markdown",
   "metadata": {},
   "source": [
    "# Q12:"
   ]
  },
  {
   "cell_type": "markdown",
   "metadata": {},
   "source": [
    "Use a dictionary to store information about a person you know.\n",
    "Store their first name, last name, age, and the city in which they live. \n",
    "You should have keys such as first_name, last_name, age, and city. \n",
    "Print each piece of information stored in your dictionary"
   ]
  },
  {
   "cell_type": "code",
   "execution_count": 40,
   "metadata": {},
   "outputs": [
    {
     "name": "stdout",
     "output_type": "stream",
     "text": [
      "{'first_name': 'Saifuddin', 'last_name': 'Muhammad', 'age': 40, 'city': 'Karachi'}\n"
     ]
    }
   ],
   "source": [
    "My_Dictionary = {\"first_name\":\"Saifuddin\",\"last_name\":\"Muhammad\",\"age\":40,\"city\":\"Karachi\"}\n",
    "print(My_Dictionary)"
   ]
  },
  {
   "cell_type": "code",
   "execution_count": null,
   "metadata": {},
   "outputs": [],
   "source": []
  },
  {
   "cell_type": "code",
   "execution_count": null,
   "metadata": {},
   "outputs": [],
   "source": []
  },
  {
   "cell_type": "code",
   "execution_count": null,
   "metadata": {},
   "outputs": [],
   "source": []
  },
  {
   "cell_type": "markdown",
   "metadata": {},
   "source": [
    "# Q13:"
   ]
  },
  {
   "cell_type": "markdown",
   "metadata": {},
   "source": [
    "Starts with your last question 12 , loop through the dictionary’s keys and values.\n",
    "When you’re sure that your loop works, add five more Python terms to your\n",
    "dictionary . When you run your program again, these new words and meanings\n",
    "should automatically be included in the output."
   ]
  },
  {
   "cell_type": "code",
   "execution_count": 13,
   "metadata": {},
   "outputs": [
    {
     "name": "stdout",
     "output_type": "stream",
     "text": [
      "Current Dictionary is:\n",
      "first_name : Saifuddin\n",
      "last_name : Muhammad\n",
      "age : 40\n",
      "city : Karachi\n",
      "Updated Dictionary is:  {'first_name': 'Saifuddin', 'last_name': 'Muhammad', 'age': 40, 'city': 'Karachi', 'Gender': 'Male', 'NIC NO.': 45215023945631, 'Address': 'Jahangir Road, Karachi', 'Blood Group': 'AB+', 'Country': 'Pakistan'}\n"
     ]
    }
   ],
   "source": [
    "My_Dictionary = {\"first_name\":\"Saifuddin\",\"last_name\":\"Muhammad\",\"age\":40,\"city\":\"Karachi\"}\n",
    "print(\"Current Dictionary is:\")\n",
    "for x, y in My_Dictionary.items():\n",
    "    print(x,\":\",y)\n",
    "My_Dictionary['Gender'] = 'Male'\n",
    "My_Dictionary['NIC NO.'] = 45215023945631\n",
    "My_Dictionary['Address'] = 'Jahangir Road, Karachi'\n",
    "My_Dictionary['Blood Group'] = 'AB+'\n",
    "My_Dictionary['Country'] = 'Pakistan'\n",
    "print(\"Updated Dictionary is: \",My_Dictionary)\n",
    "                     \n",
    "    "
   ]
  },
  {
   "cell_type": "code",
   "execution_count": null,
   "metadata": {},
   "outputs": [],
   "source": []
  },
  {
   "cell_type": "code",
   "execution_count": null,
   "metadata": {},
   "outputs": [],
   "source": []
  },
  {
   "cell_type": "code",
   "execution_count": null,
   "metadata": {},
   "outputs": [],
   "source": []
  },
  {
   "cell_type": "code",
   "execution_count": null,
   "metadata": {},
   "outputs": [],
   "source": []
  },
  {
   "cell_type": "markdown",
   "metadata": {},
   "source": [
    "# Q14:"
   ]
  },
  {
   "cell_type": "markdown",
   "metadata": {},
   "source": [
    "Make a dictionary containing three major rivers and the country\n",
    "each river runs through. One key-value pair might be 'nile': 'egypt'.\n",
    "    \n",
    "    \n",
    "•\t Use a loop to print a sentence about each river, such as The Nile runs\n",
    "through Egypt.\n",
    "\n",
    "NOTE: use upper case through keys and values."
   ]
  },
  {
   "cell_type": "code",
   "execution_count": 4,
   "metadata": {},
   "outputs": [
    {
     "name": "stdout",
     "output_type": "stream",
     "text": [
      "The Nile  runs through Egypt\n",
      "The Amazon  runs through South America\n",
      "The Yangzi  runs through China\n"
     ]
    }
   ],
   "source": [
    "'''Nile in Egypt\n",
    "Amazon River in South America\n",
    "The Yangtze or Yangzi is the longest river in China\n",
    "'''\n",
    "rivers = {\"nile\":\"egypt\",\"amazon\":\"south america\",\"yangzi\":\"china\"}\n",
    "for x, y in rivers.items():\n",
    "    print(\"The\" ,x.title(),\" runs through\",y.title())\n",
    "\n"
   ]
  },
  {
   "cell_type": "code",
   "execution_count": null,
   "metadata": {},
   "outputs": [],
   "source": []
  },
  {
   "cell_type": "code",
   "execution_count": null,
   "metadata": {},
   "outputs": [],
   "source": []
  },
  {
   "cell_type": "markdown",
   "metadata": {},
   "source": [
    "# Q15:"
   ]
  },
  {
   "cell_type": "markdown",
   "metadata": {},
   "source": [
    "Make several dictionaries, where the name of each dictionary is the\n",
    "name of a pet. In each dictionary, include the kind of animal and the owner’s\n",
    "name. Store these dictionaries in a list called pets. Next, loop through your list\n",
    "and as you do print everything you know about each pet."
   ]
  },
  {
   "cell_type": "code",
   "execution_count": 1,
   "metadata": {},
   "outputs": [
    {
     "name": "stdout",
     "output_type": "stream",
     "text": [
      "{'owner_name': 'Asif', 'Kind_of_animal': 'Domestic'}\n",
      "{'owner_name': 'Imran', 'Kind_of_animal': 'canine'}\n",
      "{'owner_name': 'jawed', 'Kind_of_animal': 'birds'}\n"
     ]
    }
   ],
   "source": [
    "cat = {\"owner_name\":\"Asif\",\"Kind_of_animal\":\"Domestic\"}\n",
    "dog =  {\"owner_name\":\"Imran\",\"Kind_of_animal\":\"canine\"}\n",
    "parrot =  {\"owner_name\":\"jawed\",\"Kind_of_animal\":\"birds\"}\n",
    "pets = [cat, dog, parrot]\n",
    "for pet in pets:\n",
    "    print(pet)"
   ]
  },
  {
   "cell_type": "code",
   "execution_count": null,
   "metadata": {},
   "outputs": [],
   "source": []
  },
  {
   "cell_type": "code",
   "execution_count": null,
   "metadata": {},
   "outputs": [],
   "source": []
  },
  {
   "cell_type": "code",
   "execution_count": null,
   "metadata": {},
   "outputs": [],
   "source": []
  },
  {
   "cell_type": "code",
   "execution_count": null,
   "metadata": {},
   "outputs": [],
   "source": []
  },
  {
   "cell_type": "code",
   "execution_count": null,
   "metadata": {},
   "outputs": [],
   "source": []
  }
 ],
 "metadata": {
  "kernelspec": {
   "display_name": "Python 3",
   "language": "python",
   "name": "python3"
  },
  "language_info": {
   "codemirror_mode": {
    "name": "ipython",
    "version": 3
   },
   "file_extension": ".py",
   "mimetype": "text/x-python",
   "name": "python",
   "nbconvert_exporter": "python",
   "pygments_lexer": "ipython3",
   "version": "3.7.3"
  }
 },
 "nbformat": 4,
 "nbformat_minor": 2
}
