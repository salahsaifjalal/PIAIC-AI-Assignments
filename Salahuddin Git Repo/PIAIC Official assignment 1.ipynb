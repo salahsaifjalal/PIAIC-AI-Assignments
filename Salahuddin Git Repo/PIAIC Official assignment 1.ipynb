{
 "cells": [
  {
   "cell_type": "markdown",
   "metadata": {},
   "source": [
    "## 1. Calculate Area of a Circle"
   ]
  },
  {
   "cell_type": "markdown",
   "metadata": {},
   "source": [
    "#### Write a Python program which accepts the radius of a circle from the user and compute the area.\n",
    "###### Program Console Sample Output 1:\n",
    "###### Input Radius: 0.5\n",
    "###### Area of Circle with radius 0.5 is 0.7853981634"
   ]
  },
  {
   "cell_type": "code",
   "execution_count": 44,
   "metadata": {},
   "outputs": [
    {
     "name": "stdout",
     "output_type": "stream",
     "text": [
      "Please Enter Radius of the Circle for computing Area: 2.5\n"
     ]
    }
   ],
   "source": [
    "\n",
    "import math \n",
    "from tkinter import *\n",
    "\n",
    "while True:             # Loop continuously\n",
    "    my_input =input(\"Please Enter Radius of the Circle for computing Area: \")   # Get the input\n",
    "    if my_input != \"\":\n",
    "        my_input=float(my_input)\n",
    "        if my_input >= 0 or my_input <=0:\n",
    "            break\n",
    "\n",
    "r=my_input\n",
    "Area_of_circle=float((math.pi*r*r))\n",
    "\n",
    "my_root=Tk()\n",
    "my_root.title(\"Made by Salahuddin Muhammad\")\n",
    "canvas = Canvas(my_root, width = 350, height =200)\n",
    "canvas.create_text(175, 180, text='Area of Circle with radius '+str(r)+\" is : \"+str(Area_of_circle))          \n",
    "canvas.pack()\n",
    "\n",
    "canvas.create_oval(50,50,150,150, fill=\"blue\")\n",
    "my_root.mainloop()"
   ]
  },
  {
   "cell_type": "code",
   "execution_count": null,
   "metadata": {},
   "outputs": [],
   "source": []
  },
  {
   "cell_type": "markdown",
   "metadata": {},
   "source": [
    "## 2. Check Number either positive, negative or zero"
   ]
  },
  {
   "cell_type": "markdown",
   "metadata": {},
   "source": [
    "#### Write a Python program to check if a number is positive, negative or zero\n",
    "###### Program Console Sample Output 1:\n",
    "###### Enter Number: -1\n",
    "##### Negative Number Entered\n",
    "###### Program Console Sample Output 2:\n",
    "##### Integer: 3\n",
    "##### Positive Number Entered\n",
    "###### Program Console Sample Output 3:\n",
    "##### Integer: 0\n",
    "###### Zero Entered"
   ]
  },
  {
   "cell_type": "code",
   "execution_count": 43,
   "metadata": {},
   "outputs": [
    {
     "name": "stdout",
     "output_type": "stream",
     "text": [
      "Please Enter number: 3.3\n",
      "The Number you entered is Positive.  3.3\n"
     ]
    }
   ],
   "source": [
    "n=float(input(\"Please Enter number: \"))\n",
    "if(n==0):\n",
    "    print(\"The Number you entered is Zero. \",n)\n",
    "elif(n<0):\n",
    "    print(\"The Number you entered is Negative. \",n)\n",
    "else:\n",
    "    print(\"The Number you entered is Positive. \",n)\n"
   ]
  },
  {
   "cell_type": "code",
   "execution_count": null,
   "metadata": {},
   "outputs": [],
   "source": []
  },
  {
   "cell_type": "code",
   "execution_count": null,
   "metadata": {},
   "outputs": [],
   "source": []
  },
  {
   "cell_type": "code",
   "execution_count": null,
   "metadata": {},
   "outputs": [],
   "source": []
  },
  {
   "cell_type": "markdown",
   "metadata": {},
   "source": [
    "## 3. Divisibility Check of two numbers"
   ]
  },
  {
   "cell_type": "markdown",
   "metadata": {},
   "source": [
    "#### Write a Python program to check whether a number is completely divisible by another number. Accept two integer values form the user\n",
    "##### Program Console Sample Output 1:\n",
    "###### Enter numerator: 4\n",
    "###### Enter Denominator: 2\n",
    "##### Number 4 is Completely divisible by 2\n",
    "###### Program Console Sample Output 2:\n",
    "##### Enter numerator: 7\n",
    "\n",
    "##### Enter Denominator: 4\n",
    "###### Number 7 is not Completely divisible by 4"
   ]
  },
  {
   "cell_type": "code",
   "execution_count": 45,
   "metadata": {},
   "outputs": [
    {
     "name": "stdout",
     "output_type": "stream",
     "text": [
      "Please Enter Numerator: 8\n",
      "Please Enter Denominator: 6\n",
      "Number  8.0 is NOT completely divisible by  6.0\n"
     ]
    }
   ],
   "source": [
    "n1=float(input(\"Please Enter Numerator: \"))\n",
    "n2=float(input(\"Please Enter Denominator: \"))\n",
    "\n",
    "if(n1%n2==0):\n",
    "    print(\"Number \",n1,\"is completely divisible by \",n2)\n",
    "else:\n",
    "    print(\"Number \",n1,\"is NOT completely divisible by \",n2)\n"
   ]
  },
  {
   "cell_type": "code",
   "execution_count": null,
   "metadata": {},
   "outputs": [],
   "source": []
  },
  {
   "cell_type": "code",
   "execution_count": null,
   "metadata": {},
   "outputs": [],
   "source": []
  },
  {
   "cell_type": "code",
   "execution_count": null,
   "metadata": {},
   "outputs": [],
   "source": []
  },
  {
   "cell_type": "code",
   "execution_count": null,
   "metadata": {},
   "outputs": [],
   "source": []
  },
  {
   "cell_type": "code",
   "execution_count": null,
   "metadata": {},
   "outputs": [],
   "source": []
  },
  {
   "cell_type": "markdown",
   "metadata": {},
   "source": [
    "## 4. Calculate Volume of a sphere"
   ]
  },
  {
   "cell_type": "markdown",
   "metadata": {},
   "source": [
    "##### Write a Python program to get the volume of a sphere, please take the radius as input from user"
   ]
  },
  {
   "cell_type": "markdown",
   "metadata": {},
   "source": [
    "##### Program Console Output:\n",
    "##### Enter Radius of Sphere: 1\n",
    "###### Volume of the Sphere with Radius 1 is 4.18"
   ]
  },
  {
   "cell_type": "code",
   "execution_count": 46,
   "metadata": {},
   "outputs": [
    {
     "name": "stdout",
     "output_type": "stream",
     "text": [
      "Please Enter Radius for computing Volume of Sphere: 5.6\n",
      "Volume of Sphere with Radius  5.6  is:  735.6185806037666\n"
     ]
    }
   ],
   "source": [
    "import math\n",
    "\n",
    "while True:             # Loop continuously\n",
    "    my_input =input(\"Please Enter Radius for computing Volume of Sphere: \")   # Get the input\n",
    "    if my_input != \"\":\n",
    "        my_input1=float(my_input)\n",
    "        if my_input1 > 0:\n",
    "            break\n",
    "\n",
    "r=my_input1\n",
    "print(\"Volume of Sphere with Radius \",r,\" is: \",float(4/3*(math.pi*r*r*r)))\n",
    "\n"
   ]
  },
  {
   "cell_type": "code",
   "execution_count": null,
   "metadata": {},
   "outputs": [],
   "source": []
  },
  {
   "cell_type": "code",
   "execution_count": null,
   "metadata": {},
   "outputs": [],
   "source": []
  },
  {
   "cell_type": "code",
   "execution_count": null,
   "metadata": {},
   "outputs": [],
   "source": []
  },
  {
   "cell_type": "markdown",
   "metadata": {},
   "source": [
    "## 5. Copy string n times\n",
    "#### Write a Python program to get a string which is n (non-negative integer) copies of a given string.\n",
    "##### Program Console Output:\n",
    "##### Enter String: Hi\n",
    "###### How many copies of String you need: 4\n",
    "###### 4 Copies of Hi are HiHiHiHi"
   ]
  },
  {
   "cell_type": "code",
   "execution_count": 47,
   "metadata": {},
   "outputs": [
    {
     "name": "stdout",
     "output_type": "stream",
     "text": [
      "Please enter any string : dad\n",
      "How many copies of String you need:8\n",
      "8 Copies of  dad  are:  daddaddaddaddaddaddaddad\n"
     ]
    }
   ],
   "source": [
    "input1 = input(\"Please enter any string : \")\n",
    "\n",
    "while True:\n",
    "    N = input(\"How many copies of String you need:\")\n",
    "    if N.isdigit(): \n",
    "        N = int(N)\n",
    "        break\n",
    "print (N, 'Copies of ',input1,\" are: \",input1*N)"
   ]
  },
  {
   "cell_type": "code",
   "execution_count": null,
   "metadata": {},
   "outputs": [],
   "source": [
    "\n"
   ]
  },
  {
   "cell_type": "code",
   "execution_count": null,
   "metadata": {},
   "outputs": [],
   "source": []
  },
  {
   "cell_type": "code",
   "execution_count": null,
   "metadata": {},
   "outputs": [],
   "source": []
  },
  {
   "cell_type": "code",
   "execution_count": null,
   "metadata": {},
   "outputs": [],
   "source": []
  },
  {
   "cell_type": "markdown",
   "metadata": {},
   "source": [
    "## 6. Check if number is Even or Odd\n",
    "### Write a Python program to find whether a given number (accept from the user) is even or odd, print out an appropriate message to the user\n",
    "#### Program Console Output 1:\n",
    "##### Enter Number: 4\n",
    "###### 4 is Even\n",
    "#### Program Console Output 2:\n",
    "##### Enter Number: 9\n",
    "###### 9 is Odd"
   ]
  },
  {
   "cell_type": "code",
   "execution_count": 48,
   "metadata": {},
   "outputs": [
    {
     "name": "stdout",
     "output_type": "stream",
     "text": [
      "Please enter any non decimal number 2.3\n",
      "Please enter any non decimal number 6\n",
      "Your input is even integer:  6\n"
     ]
    }
   ],
   "source": [
    "while True:\n",
    "    N = input(\"Please enter any non decimal number \") \n",
    "    if N.isdigit(): \n",
    "        N = int(N)\n",
    "        if N % 2 == 0:\n",
    "            print ('Your input is even integer: ', N)\n",
    "        else:\n",
    "            print ('Your input is odd integer: ', N)\n",
    "        break\n"
   ]
  },
  {
   "cell_type": "code",
   "execution_count": null,
   "metadata": {},
   "outputs": [],
   "source": []
  },
  {
   "cell_type": "code",
   "execution_count": null,
   "metadata": {},
   "outputs": [],
   "source": []
  },
  {
   "cell_type": "code",
   "execution_count": null,
   "metadata": {},
   "outputs": [],
   "source": []
  },
  {
   "cell_type": "code",
   "execution_count": null,
   "metadata": {},
   "outputs": [],
   "source": []
  },
  {
   "cell_type": "markdown",
   "metadata": {},
   "source": [
    "## 7. Vowel Tester\n",
    "### Write a Python program to test whether a passed letter is a vowel or not\n",
    "#### Program Console Output 1:\n",
    "##### Enter a character: A\n",
    "###### Letter A is Vowel\n",
    "#### Program Console Output 2:\n",
    "##### Enter a character: e\n",
    "###### Letter e is Vowel\n",
    "#### Program Console Output 2:\n",
    "##### Enter a character: N\n",
    "###### Letter N is not Vowel"
   ]
  },
  {
   "cell_type": "code",
   "execution_count": 50,
   "metadata": {},
   "outputs": [
    {
     "name": "stdout",
     "output_type": "stream",
     "text": [
      "Enter a letter of the alphabet: U\n",
      "U is a vowel.\n"
     ]
    }
   ],
   "source": [
    "input1 = input(\"Enter a letter of the alphabet: \")\n",
    "input2=input1.lower()\n",
    "if  input2 in ('a', 'e', 'i', 'o', 'u'):\n",
    "    print(\"%s is a vowel.\" % input1)\n",
    "else:\n",
    "    print(\"%s is not a vowel\" % input1) \n"
   ]
  },
  {
   "cell_type": "code",
   "execution_count": null,
   "metadata": {},
   "outputs": [],
   "source": []
  },
  {
   "cell_type": "code",
   "execution_count": null,
   "metadata": {},
   "outputs": [],
   "source": []
  },
  {
   "cell_type": "code",
   "execution_count": null,
   "metadata": {},
   "outputs": [],
   "source": []
  },
  {
   "cell_type": "markdown",
   "metadata": {},
   "source": [
    "## 8. Triangle area\n",
    "### Write a Python program that will accept the base and height of a triangle and compute the area\n",
    "###### Reference:\n",
    "https://www.mathgoodies.com/lessons/vol1/area_triangle"
   ]
  },
  {
   "cell_type": "code",
   "execution_count": 51,
   "metadata": {},
   "outputs": [
    {
     "name": "stdout",
     "output_type": "stream",
     "text": [
      "Enter the base of a Triangle : 9\n",
      "Enter the height of the Triangle : 8\n",
      "The Area of the Triangle is  =  36.0\n"
     ]
    }
   ],
   "source": [
    "b = float(input(\"Enter the base of a Triangle : \"))\n",
    "h = float(input(\"Enter the height of the Triangle : \"))\n",
    "\n",
    "area = b*h/2\n",
    "\n",
    "print(\"The Area of the Triangle is  = \", area)\n",
    "\n"
   ]
  },
  {
   "cell_type": "code",
   "execution_count": null,
   "metadata": {},
   "outputs": [],
   "source": []
  },
  {
   "cell_type": "code",
   "execution_count": null,
   "metadata": {},
   "outputs": [],
   "source": []
  },
  {
   "cell_type": "code",
   "execution_count": null,
   "metadata": {},
   "outputs": [],
   "source": []
  },
  {
   "cell_type": "markdown",
   "metadata": {},
   "source": [
    "## 9. Calculate Interest\n",
    "### Write a Python program to compute the future value of a specified principal amount, rate of interest, and a number of years\n",
    "#### Program Console Sample 1:\n",
    "##### Please enter principal amount: 10000\n",
    "###### Please Enter Rate of interest in %: 0.1\n",
    "###### Enter number of years for investment: 5\n",
    "###### After 5 years your principal amount 10000 over an interest rate of 0.1 % will be 16105.1"
   ]
  },
  {
   "cell_type": "code",
   "execution_count": 52,
   "metadata": {},
   "outputs": [
    {
     "name": "stdout",
     "output_type": "stream",
     "text": [
      "Please enter principal amount: 20\n",
      "Please enter Rate of interest: 1\n",
      "Please enter number of years of investment: 2\n",
      "After  2.0  years your principal amount  20.0 over an interest rate of  1.0 % will be  20.402\n"
     ]
    }
   ],
   "source": [
    "input1=float(input(\"Please enter principal amount: \"))\n",
    "input2=float(input(\"Please enter Rate of interest: \"))\n",
    "input3=float(input(\"Please enter number of years of investment: \"))\n",
    "\n",
    "\n",
    "future_value  = input1*((1+(0.01*input2)) ** input3)\n",
    "print(\"After \",input3,\" years your principal amount \", input1,\"over an interest rate of \",input2,\"% will be \", future_value)\n",
    "\n"
   ]
  },
  {
   "cell_type": "code",
   "execution_count": null,
   "metadata": {},
   "outputs": [],
   "source": []
  },
  {
   "cell_type": "code",
   "execution_count": null,
   "metadata": {},
   "outputs": [],
   "source": []
  },
  {
   "cell_type": "code",
   "execution_count": null,
   "metadata": {},
   "outputs": [],
   "source": []
  },
  {
   "cell_type": "code",
   "execution_count": null,
   "metadata": {},
   "outputs": [],
   "source": []
  },
  {
   "cell_type": "code",
   "execution_count": null,
   "metadata": {},
   "outputs": [],
   "source": []
  },
  {
   "cell_type": "markdown",
   "metadata": {},
   "source": [
    "## 10. Euclidean distance\n",
    "### write a Python program to compute the distance between the points (x1, y1) and (x2, y2).\n",
    "#### Program Console Sample 1:\n",
    "###### Enter Co-ordinate for x1: 2\n",
    "###### Enter Co-ordinate for x2: 4\n",
    "###### Enter Co-ordinate for y1: 4\n",
    "###### Enter Co-ordinate for y2: 4\n",
    "###### Distance between points (2, 4) and (4, 4) is 2"
   ]
  },
  {
   "cell_type": "markdown",
   "metadata": {},
   "source": [
    "###### Reference:\n",
    "https://en.wikipedia.org/wiki/Euclidean_distance"
   ]
  },
  {
   "cell_type": "code",
   "execution_count": 24,
   "metadata": {},
   "outputs": [
    {
     "name": "stdout",
     "output_type": "stream",
     "text": [
      "Enter coordinate for x1: 4\n",
      "Enter coordinate for x2: 2\n",
      "Enter coordinate for y1: 20\n",
      "Enter coordinate for y2: 8\n",
      "Distance between points ( 4.0 , 2.0 )  and  ( 20.0 , 8.0 ) is 12.165525060596439\n"
     ]
    }
   ],
   "source": [
    "import math\n",
    "x1=float(input(\"Enter coordinate for x1: \"))\n",
    "x2=float(input(\"Enter coordinate for x2: \"))\n",
    "y1=float(input(\"Enter coordinate for y1: \"))\n",
    "y2=float(input(\"Enter coordinate for y2: \"))\n",
    "\n",
    "\n",
    "distance = math.sqrt( ((x2-x1)**2)+((y2-y1)**2) )\n",
    "\n",
    "print(\"Distance between points (\",x1,\",\",x2,\")\", \" and \",\"(\", y1,\",\",y2,\") is\",distance)\n",
    "\n"
   ]
  },
  {
   "cell_type": "code",
   "execution_count": null,
   "metadata": {},
   "outputs": [],
   "source": []
  },
  {
   "cell_type": "code",
   "execution_count": null,
   "metadata": {},
   "outputs": [],
   "source": []
  },
  {
   "cell_type": "code",
   "execution_count": null,
   "metadata": {},
   "outputs": [],
   "source": []
  },
  {
   "cell_type": "markdown",
   "metadata": {},
   "source": [
    "## 11. Feet to Centimeter Converter\n",
    "### Write a Python program to convert height in feet to centimetres.\n",
    "##### Program Console Sample 1:\n",
    "###### Enter Height in Feet: 5\n",
    "###### There are 152.4 Cm in 5 ft\n",
    "###### Reference:\n",
    "https://www.rapidtables.com/convert/length/feet-to-cm.html"
   ]
  },
  {
   "cell_type": "code",
   "execution_count": 53,
   "metadata": {},
   "outputs": [
    {
     "name": "stdout",
     "output_type": "stream",
     "text": [
      "Enter Height in Feet: 5\n",
      "There are  152.4 Cm in 5.0 Ft.\n"
     ]
    }
   ],
   "source": [
    "#1 Foot = 30.48 Centimeters\n",
    "\n",
    "\n",
    "input1=float(input(\"Enter Height in Feet: \"))\n",
    "result1=input1*30.48\n",
    "\n",
    "print(\"There are \",result1,\"Cm\",\"in\",input1,\"Ft.\")\n"
   ]
  },
  {
   "cell_type": "code",
   "execution_count": null,
   "metadata": {},
   "outputs": [],
   "source": []
  },
  {
   "cell_type": "code",
   "execution_count": null,
   "metadata": {},
   "outputs": [],
   "source": []
  },
  {
   "cell_type": "code",
   "execution_count": null,
   "metadata": {},
   "outputs": [],
   "source": []
  },
  {
   "cell_type": "markdown",
   "metadata": {},
   "source": [
    "## 12. BMI Calculator\n",
    "### Write a Python program to calculate body mass index\n",
    "##### Program Console Sample 1:\n",
    "###### Enter Height in Cm: 180\n",
    "###### Enter Weight in Kg: 75\n",
    "###### Your BMI is 23.15"
   ]
  },
  {
   "cell_type": "code",
   "execution_count": 54,
   "metadata": {},
   "outputs": [
    {
     "name": "stdout",
     "output_type": "stream",
     "text": [
      "Enter height in Centimeter: 180\n",
      "Enter weight in kg: 75\n",
      "Your BMI is: 23.148148148148145 "
     ]
    }
   ],
   "source": [
    "height = float(input(\"Enter height in Centimeter: \"))\n",
    "weight = float(input(\"Enter weight in kg: \"))\n",
    "\n",
    "# 100cm = 1 m\n",
    "height=height/100\n",
    "bmi = weight/(height**2) \n",
    "\n",
    "print(\"Your BMI is: {0} \".format(bmi), end='')\n"
   ]
  },
  {
   "cell_type": "code",
   "execution_count": null,
   "metadata": {},
   "outputs": [],
   "source": []
  },
  {
   "cell_type": "code",
   "execution_count": null,
   "metadata": {},
   "outputs": [],
   "source": []
  },
  {
   "cell_type": "markdown",
   "metadata": {},
   "source": [
    "## 13. Sum of n Positive Integers\n",
    "### Write a python program to sum of the first n positive integers\n",
    "#### Program Console Sample 1:\n",
    "###### Enter value of n: 5\n",
    "###### Sum of n Positive integers till 5 is 15"
   ]
  },
  {
   "cell_type": "code",
   "execution_count": 55,
   "metadata": {},
   "outputs": [
    {
     "name": "stdout",
     "output_type": "stream",
     "text": [
      "Enter value of n: 5\n",
      "Sum of  5  Positive integers till  5 is:  15.0\n"
     ]
    }
   ],
   "source": [
    "n = int(input(\"Enter value of n: \"))\n",
    "sums = (n * (n + 1)) / 2\n",
    "print(\"Sum of \",n,\" Positive integers till \",n,\"is: \",sums)\n"
   ]
  },
  {
   "cell_type": "code",
   "execution_count": null,
   "metadata": {},
   "outputs": [],
   "source": []
  },
  {
   "cell_type": "markdown",
   "metadata": {},
   "source": [
    "## 14. Digits Sum of a Number\n",
    "### Write a Python program to calculate the sum of the digits in an integer\n",
    "#### Program Console Sample 1:\n",
    "##### Enter a number: 15\n",
    "###### Sum of 1 + 5 is 6\n",
    "#### Program Console Sample 2:\n",
    "##### Enter a number: 1234\n",
    "###### Sum of 1 + 2 + 3 + 4 is 10"
   ]
  },
  {
   "cell_type": "code",
   "execution_count": 56,
   "metadata": {},
   "outputs": [
    {
     "name": "stdout",
     "output_type": "stream",
     "text": [
      " Enter any Number: 1234\n",
      "\n",
      " Sum of the digits of Entered Number = 10\n"
     ]
    }
   ],
   "source": [
    "Number = int(input(\" Enter any Number: \"))\n",
    "Sum = 0\n",
    "\n",
    "while(Number > 0):\n",
    "    Reminder = Number % 10\n",
    "    Sum = Sum + Reminder\n",
    "    Number = Number //10\n",
    "\n",
    "print(\"\\n Sum of the digits of Entered Number = %d\" %Sum)"
   ]
  },
  {
   "cell_type": "code",
   "execution_count": null,
   "metadata": {},
   "outputs": [],
   "source": []
  },
  {
   "cell_type": "code",
   "execution_count": null,
   "metadata": {},
   "outputs": [],
   "source": []
  },
  {
   "cell_type": "code",
   "execution_count": null,
   "metadata": {},
   "outputs": [],
   "source": []
  },
  {
   "cell_type": "code",
   "execution_count": null,
   "metadata": {},
   "outputs": [],
   "source": []
  },
  {
   "cell_type": "code",
   "execution_count": null,
   "metadata": {},
   "outputs": [],
   "source": []
  },
  {
   "cell_type": "code",
   "execution_count": null,
   "metadata": {},
   "outputs": [],
   "source": []
  },
  {
   "cell_type": "code",
   "execution_count": null,
   "metadata": {},
   "outputs": [],
   "source": []
  }
 ],
 "metadata": {
  "kernelspec": {
   "display_name": "Python 3",
   "language": "python",
   "name": "python3"
  },
  "language_info": {
   "codemirror_mode": {
    "name": "ipython",
    "version": 3
   },
   "file_extension": ".py",
   "mimetype": "text/x-python",
   "name": "python",
   "nbconvert_exporter": "python",
   "pygments_lexer": "ipython3",
   "version": "3.7.3"
  }
 },
 "nbformat": 4,
 "nbformat_minor": 2
}
