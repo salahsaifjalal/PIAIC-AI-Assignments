{
 "cells": [
  {
   "cell_type": "markdown",
   "metadata": {},
   "source": [
    "# Q1:"
   ]
  },
  {
   "cell_type": "raw",
   "metadata": {},
   "source": [
    "Store a message in a variable, and then print that\n",
    "message."
   ]
  },
  {
   "cell_type": "code",
   "execution_count": 1,
   "metadata": {},
   "outputs": [
    {
     "name": "stdout",
     "output_type": "stream",
     "text": [
      "Man is mortal\n"
     ]
    }
   ],
   "source": [
    "Let_a_variable='Man is mortal'\n",
    "print(Let_a_variable)"
   ]
  },
  {
   "cell_type": "code",
   "execution_count": null,
   "metadata": {},
   "outputs": [],
   "source": []
  },
  {
   "cell_type": "markdown",
   "metadata": {},
   "source": [
    "# Q2:"
   ]
  },
  {
   "cell_type": "raw",
   "metadata": {},
   "source": [
    "Store a message in a variable, and print that message.\n",
    "Then change the value of your variable to a new message, and print the new\n",
    "message."
   ]
  },
  {
   "cell_type": "code",
   "execution_count": 5,
   "metadata": {},
   "outputs": [
    {
     "name": "stdout",
     "output_type": "stream",
     "text": [
      "Pakistan is going to stand on his foot.InshaAllah\n",
      "This is a great news!\n"
     ]
    }
   ],
   "source": [
    "Suppose_a_variable='Pakistan is going to stand on his foot.InshaAllah'\n",
    "print(Suppose_a_variable)\n",
    "Suppose_a_variable='This is a great news!'\n",
    "print(Suppose_a_variable)"
   ]
  },
  {
   "cell_type": "code",
   "execution_count": null,
   "metadata": {},
   "outputs": [],
   "source": []
  },
  {
   "cell_type": "code",
   "execution_count": null,
   "metadata": {},
   "outputs": [],
   "source": []
  },
  {
   "cell_type": "code",
   "execution_count": null,
   "metadata": {},
   "outputs": [],
   "source": []
  },
  {
   "cell_type": "markdown",
   "metadata": {},
   "source": [
    "# Q3:"
   ]
  },
  {
   "cell_type": "raw",
   "metadata": {},
   "source": [
    "Store a person’s name in a variable, and print a message to that person. Your message should be simple, such as, “Hello Shahzad,\n",
    "would you like to learn some Python today?”"
   ]
  },
  {
   "cell_type": "code",
   "execution_count": 12,
   "metadata": {},
   "outputs": [
    {
     "name": "stdout",
     "output_type": "stream",
     "text": [
      "Salahuddin Muhammad , Assalam-o-alaikum, Are you doing your PIAIC Assignment1 ?\n"
     ]
    }
   ],
   "source": [
    "Person_Name=\"Salahuddin Muhammad\"\n",
    "print(Person_Name, \", Assalam-o-alaikum, Are you doing your PIAIC Assignment1 ?\")\n"
   ]
  },
  {
   "cell_type": "code",
   "execution_count": null,
   "metadata": {},
   "outputs": [],
   "source": []
  },
  {
   "cell_type": "markdown",
   "metadata": {},
   "source": [
    "# Q4:"
   ]
  },
  {
   "cell_type": "raw",
   "metadata": {},
   "source": [
    "Store a person’s name in a variable, and then print that person’s name in lowercase, uppercase, and titlecase."
   ]
  },
  {
   "cell_type": "code",
   "execution_count": 23,
   "metadata": {},
   "outputs": [
    {
     "name": "stdout",
     "output_type": "stream",
     "text": [
      "Salahuddin Muhammad  In TitleCase \n",
      " SALAHUDDIN MUHAMMAD  In UpperCase \n",
      " salahuddin muhammad In LowerCase\n"
     ]
    }
   ],
   "source": [
    "Person_Name=\"SalahuddiN MuhammaD\"\n",
    "print(Person_Name.title(),\" In TitleCase\",\"\\n\",Person_Name.upper(),\" In UpperCase\",\"\\n\",Person_Name.lower(), \"In LowerCase\")"
   ]
  },
  {
   "cell_type": "code",
   "execution_count": null,
   "metadata": {},
   "outputs": [],
   "source": []
  },
  {
   "cell_type": "code",
   "execution_count": null,
   "metadata": {},
   "outputs": [],
   "source": []
  },
  {
   "cell_type": "markdown",
   "metadata": {},
   "source": [
    "# Q5:"
   ]
  },
  {
   "cell_type": "raw",
   "metadata": {},
   "source": [
    "Find a quote from a famous person you admire. Print the\n",
    "quote and the name of its author. Your output should look something like the\n",
    "following, including the quotation marks:\n",
    "    \n",
    "    \n",
    "Albert Einstein once said, “A person who never made a\n",
    "mistake never tried anything new.”"
   ]
  },
  {
   "cell_type": "code",
   "execution_count": 27,
   "metadata": {},
   "outputs": [
    {
     "name": "stdout",
     "output_type": "stream",
     "text": [
      "Allama Iqbal said, \"Inner experience is only one source of human knowledge.\"\n"
     ]
    }
   ],
   "source": [
    "print('''Allama Iqbal said, \"Inner experience is only one source of human knowledge.\"''')"
   ]
  },
  {
   "cell_type": "code",
   "execution_count": null,
   "metadata": {},
   "outputs": [],
   "source": []
  },
  {
   "cell_type": "markdown",
   "metadata": {},
   "source": [
    "# Q6:"
   ]
  },
  {
   "cell_type": "raw",
   "metadata": {},
   "source": [
    "Write addition, subtraction, multiplication, and division\n",
    "operations that each result in the number 8. Be sure to enclose your operations\n",
    "in print statements to see the results. You should create four lines that look\n",
    "like this:\n",
    "    \n",
    "    \n",
    "print(5 + 3)"
   ]
  },
  {
   "cell_type": "code",
   "execution_count": 34,
   "metadata": {},
   "outputs": [
    {
     "name": "stdout",
     "output_type": "stream",
     "text": [
      "Addition of two numbers (5+3) =  8\n",
      "Subtraction of two numbers (10-2) =  8\n",
      "Multiplication of two numbers (4 X 2) =  8\n",
      "Division of two numbers (16/2) =  8\n"
     ]
    }
   ],
   "source": [
    "print('Addition of two numbers (5+3) = ',5+3 )\n",
    "print('Subtraction of two numbers (10-2) = ',10-2 )\n",
    "print('Multiplication of two numbers (4 X 2) = ',4*2 )\n",
    "print('Division of two numbers (16/2) = ',16//2 )\n"
   ]
  },
  {
   "cell_type": "code",
   "execution_count": null,
   "metadata": {},
   "outputs": [],
   "source": []
  },
  {
   "cell_type": "code",
   "execution_count": null,
   "metadata": {},
   "outputs": [],
   "source": []
  },
  {
   "cell_type": "code",
   "execution_count": null,
   "metadata": {},
   "outputs": [],
   "source": []
  },
  {
   "cell_type": "markdown",
   "metadata": {},
   "source": [
    "# Q7:"
   ]
  },
  {
   "cell_type": "raw",
   "metadata": {},
   "source": [
    "Create a variable called number1 with the value of 8.\n",
    "Write a print statement to print number1 multiplied by 9."
   ]
  },
  {
   "cell_type": "code",
   "execution_count": 36,
   "metadata": {},
   "outputs": [
    {
     "name": "stdout",
     "output_type": "stream",
     "text": [
      "72\n"
     ]
    }
   ],
   "source": [
    "number1=8\n",
    "print(number1*9)"
   ]
  },
  {
   "cell_type": "code",
   "execution_count": null,
   "metadata": {},
   "outputs": [],
   "source": []
  },
  {
   "cell_type": "markdown",
   "metadata": {},
   "source": [
    "# Q8:"
   ]
  },
  {
   "cell_type": "raw",
   "metadata": {},
   "source": [
    "Store your favorite number in a variable. Then, using\n",
    "that variable, create a message that reveals your favorite number. Print that\n",
    "message."
   ]
  },
  {
   "cell_type": "code",
   "execution_count": 37,
   "metadata": {},
   "outputs": [
    {
     "name": "stdout",
     "output_type": "stream",
     "text": [
      "My favourite number is:  19\n"
     ]
    }
   ],
   "source": [
    "variable=19\n",
    "print('My favourite number is: ',variable)"
   ]
  },
  {
   "cell_type": "code",
   "execution_count": null,
   "metadata": {},
   "outputs": [],
   "source": []
  },
  {
   "cell_type": "markdown",
   "metadata": {},
   "source": [
    "# Q9:"
   ]
  },
  {
   "cell_type": "raw",
   "metadata": {},
   "source": [
    "Store your name and your age in a varibale called my_name and my_age.\n",
    "Use format method to print your name and your age.\n",
    "Your final output sholud be like this:\n",
    "\n",
    "OUTPUT:    \n",
    "My name is Shahzad Ahsan and my age is 21.\n",
    "\n",
    "NOTE:Use both of the format methods which were discuss in the class."
   ]
  },
  {
   "cell_type": "code",
   "execution_count": 5,
   "metadata": {},
   "outputs": [
    {
     "name": "stdout",
     "output_type": "stream",
     "text": [
      "My name is Talib  and my age is 30. \n"
     ]
    }
   ],
   "source": [
    "my_name='Talib'\n",
    "my_age='30'\n",
    "print(\"My name is {} \".format(my_name),\"and my age is {}. \".format(my_age))"
   ]
  },
  {
   "cell_type": "code",
   "execution_count": 7,
   "metadata": {},
   "outputs": [
    {
     "name": "stdout",
     "output_type": "stream",
     "text": [
      "My Name is Talib and My age is 30.\n"
     ]
    }
   ],
   "source": [
    "my_name='My Name is {}'\n",
    "my_age='and My age is{}.'\n",
    "print(my_name.format('Talib'),my_age.format(' 30'))"
   ]
  },
  {
   "cell_type": "code",
   "execution_count": null,
   "metadata": {},
   "outputs": [],
   "source": []
  },
  {
   "cell_type": "code",
   "execution_count": null,
   "metadata": {},
   "outputs": [],
   "source": []
  },
  {
   "cell_type": "markdown",
   "metadata": {},
   "source": [
    "# Q10:"
   ]
  },
  {
   "cell_type": "raw",
   "metadata": {},
   "source": [
    "Write a Python program to check if a number is positive, negative or zero."
   ]
  },
  {
   "cell_type": "code",
   "execution_count": 14,
   "metadata": {},
   "outputs": [
    {
     "name": "stdout",
     "output_type": "stream",
     "text": [
      "Enter any number to check whether Positive or Negative or Zero:-96\n",
      "The number you entered is Negative:  -96.0\n"
     ]
    }
   ],
   "source": [
    "variable = float( input(\"Enter any number to check whether Positive or Negative or Zero:\"))\n",
    "if variable==0:\n",
    "    print(\"The number you entered is Zero: \",variable)\n",
    "elif variable>0:\n",
    "    print(\"The number you entered is Positive: \",variable)\n",
    "else:\n",
    "    print(\"The number you entered is Negative: \",variable)"
   ]
  },
  {
   "cell_type": "code",
   "execution_count": null,
   "metadata": {},
   "outputs": [],
   "source": []
  },
  {
   "cell_type": "markdown",
   "metadata": {},
   "source": [
    "# Q11:"
   ]
  },
  {
   "cell_type": "raw",
   "metadata": {},
   "source": [
    "Write a Python program which accepts the radius of a circle from the user and compute the\n",
    "area."
   ]
  },
  {
   "cell_type": "code",
   "execution_count": 20,
   "metadata": {},
   "outputs": [
    {
     "name": "stdout",
     "output_type": "stream",
     "text": [
      "Enter Radius of a Circle: 6\n",
      "Area of the Circle is:  113.09733552923255 units.\n"
     ]
    }
   ],
   "source": [
    "import math \n",
    "# Area of a Circle = pi x (radius)X(radius)\n",
    "Radius_of_a_circle=float(input(\"Enter Radius of a Circle: \",))\n",
    "print(\"Area of the Circle is: \",math.pi*Radius_of_a_circle**2, \"units.\")"
   ]
  },
  {
   "cell_type": "code",
   "execution_count": null,
   "metadata": {},
   "outputs": [],
   "source": []
  },
  {
   "cell_type": "code",
   "execution_count": null,
   "metadata": {},
   "outputs": [],
   "source": []
  },
  {
   "cell_type": "markdown",
   "metadata": {},
   "source": [
    "# Q12:"
   ]
  },
  {
   "cell_type": "raw",
   "metadata": {},
   "source": [
    "Write a Python function to check whether a number is completely divisible by another\n",
    "number. Accept two integer values form the user"
   ]
  },
  {
   "cell_type": "code",
   "execution_count": 36,
   "metadata": {},
   "outputs": [
    {
     "name": "stdout",
     "output_type": "stream",
     "text": [
      "Enter First Integer Value: 52.36\n",
      "Enter Second Integer Value: 2\n",
      "First Value is  NOT completely divisible by Second Value because Remainder is:  0.35999999999999943 & Quotient is:  26.18\n"
     ]
    }
   ],
   "source": [
    "variable_1=float(input(\"Enter First Integer Value: \"))\n",
    "variable_2=float(input(\"Enter Second Integer Value: \"))\n",
    "Remainder=float(variable_1%variable_2)\n",
    "Quotient=float(variable_1/variable_2)\n",
    "if Remainder==0:\n",
    "    print(\"First Value is completely divisible by Second Value because Remainder is: \",Remainder, \"& Quotient is: \",Quotient)\n",
    "else:\n",
    "    print(\"First Value is  NOT completely divisible by Second Value because Remainder is: \",Remainder, \"& Quotient is: \",Quotient)\n",
    "\n",
    "\n"
   ]
  },
  {
   "cell_type": "code",
   "execution_count": null,
   "metadata": {},
   "outputs": [],
   "source": []
  },
  {
   "cell_type": "markdown",
   "metadata": {},
   "source": [
    "# Q13:"
   ]
  },
  {
   "cell_type": "raw",
   "metadata": {},
   "source": [
    "Write a Python program to find whether a given number (accept from the user) is even or\n",
    "odd, print out an appropriate message to the user."
   ]
  },
  {
   "cell_type": "code",
   "execution_count": 49,
   "metadata": {},
   "outputs": [
    {
     "name": "stdout",
     "output_type": "stream",
     "text": [
      "Enter any number to check whether Even or Odd: 7\n",
      "The number you entered is Odd Number:  7.0\n"
     ]
    }
   ],
   "source": [
    "Given_Number=float(input(\"Enter any number to check whether Even or Odd: \"))\n",
    "Remainder_1=float(Given_Number%2)\n",
    "\n",
    "if Remainder_1==0.0:\n",
    "    print(\"The number you entered is Even Number: \",Given_Number)\n",
    "else:\n",
    "    print(\"The number you entered is Odd Number: \",Given_Number)"
   ]
  },
  {
   "cell_type": "code",
   "execution_count": null,
   "metadata": {},
   "outputs": [],
   "source": []
  },
  {
   "cell_type": "markdown",
   "metadata": {},
   "source": [
    "# Q14:"
   ]
  },
  {
   "cell_type": "raw",
   "metadata": {},
   "source": [
    " Print a suitable statement that uses their response. Such as, if they entered “Bangkok”: “I’d love to visit Bangkook more often”."
   ]
  },
  {
   "cell_type": "code",
   "execution_count": 8,
   "metadata": {},
   "outputs": [
    {
     "name": "stdout",
     "output_type": "stream",
     "text": [
      "Enter the table you wish to learn: 12\n",
      "12 x 1 = 12\n",
      "12 x 2 = 24\n",
      "12 x 3 = 36\n",
      "12 x 4 = 48\n",
      "12 x 5 = 60\n",
      "12 x 6 = 72\n",
      "12 x 7 = 84\n",
      "12 x 8 = 96\n",
      "12 x 9 = 108\n",
      "12 x 10 = 120\n"
     ]
    }
   ],
   "source": [
    "table = input(\"Enter the table you wish to learn: \")\n",
    "# loop that will repeat 10 times (1-10)\n",
    "for x in range(1,11):\n",
    "    # the answer uses x which increases each time to work out the answer\n",
    "    answer = x * int(table)\n",
    "    # x is used in the print command to display what it is multiplying the number entered by\n",
    "    print(table + \" x \" + str(x) + \" = \" + str(answer))"
   ]
  },
  {
   "cell_type": "code",
   "execution_count": null,
   "metadata": {},
   "outputs": [],
   "source": []
  },
  {
   "cell_type": "code",
   "execution_count": null,
   "metadata": {},
   "outputs": [],
   "source": []
  },
  {
   "cell_type": "code",
   "execution_count": null,
   "metadata": {},
   "outputs": [],
   "source": []
  },
  {
   "cell_type": "markdown",
   "metadata": {},
   "source": [
    "# Q15:"
   ]
  },
  {
   "cell_type": "raw",
   "metadata": {},
   "source": [
    "Write an input line to ask a user whether they want to take the red pill or the blue pill.\n",
    "\n",
    " If they write “red” then print “You stay in wonderland and see how far the rabbit hole goes”.\n",
    " \n",
    " Elif they write “blue” then print “You wake up in your bed and believe what you want to believe.”.\n",
    " \n",
    " Else print “That’s not an option Neo.”"
   ]
  },
  {
   "cell_type": "code",
   "execution_count": 9,
   "metadata": {},
   "outputs": [
    {
     "name": "stdout",
     "output_type": "stream",
     "text": [
      "Write \"red\" for Red Pill and write \"blue\" for Blue Pill. Choose any one? gfhg\n",
      "That's not an option Neo. Matrix Movie.\n"
     ]
    }
   ],
   "source": [
    "User_Input=input('Write \"red\" for Red Pill and write \"blue\" for Blue Pill. Choose any one? ')\n",
    "a=User_Input.lower()\n",
    "\n",
    "if a==\"red\":\n",
    "    print(\"You stay in wonderland and see how far the rabbit hole goes.\")\n",
    "elif a==\"blue\":\n",
    "    print(\"You wake up in your bed and believe what you want to believe.\")\n",
    "else:\n",
    "    print(\"That's not an option Neo. Matrix Movie.\") "
   ]
  },
  {
   "cell_type": "code",
   "execution_count": null,
   "metadata": {},
   "outputs": [],
   "source": []
  },
  {
   "cell_type": "code",
   "execution_count": null,
   "metadata": {},
   "outputs": [],
   "source": []
  },
  {
   "cell_type": "code",
   "execution_count": null,
   "metadata": {},
   "outputs": [],
   "source": []
  },
  {
   "cell_type": "code",
   "execution_count": null,
   "metadata": {},
   "outputs": [],
   "source": []
  },
  {
   "cell_type": "code",
   "execution_count": null,
   "metadata": {},
   "outputs": [],
   "source": []
  },
  {
   "cell_type": "code",
   "execution_count": null,
   "metadata": {},
   "outputs": [],
   "source": []
  },
  {
   "cell_type": "code",
   "execution_count": null,
   "metadata": {},
   "outputs": [],
   "source": []
  },
  {
   "cell_type": "code",
   "execution_count": null,
   "metadata": {},
   "outputs": [],
   "source": []
  },
  {
   "cell_type": "code",
   "execution_count": null,
   "metadata": {},
   "outputs": [],
   "source": []
  },
  {
   "cell_type": "code",
   "execution_count": null,
   "metadata": {},
   "outputs": [],
   "source": []
  },
  {
   "cell_type": "code",
   "execution_count": null,
   "metadata": {},
   "outputs": [],
   "source": []
  },
  {
   "cell_type": "code",
   "execution_count": null,
   "metadata": {},
   "outputs": [],
   "source": []
  }
 ],
 "metadata": {
  "kernelspec": {
   "display_name": "Python 3",
   "language": "python",
   "name": "python3"
  },
  "language_info": {
   "codemirror_mode": {
    "name": "ipython",
    "version": 3
   },
   "file_extension": ".py",
   "mimetype": "text/x-python",
   "name": "python",
   "nbconvert_exporter": "python",
   "pygments_lexer": "ipython3",
   "version": "3.7.3"
  }
 },
 "nbformat": 4,
 "nbformat_minor": 2
}
